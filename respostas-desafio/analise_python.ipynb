{
 "cells": [
  {
   "cell_type": "code",
   "execution_count": 1,
   "metadata": {},
   "outputs": [
    {
     "name": "stdout",
     "output_type": "stream",
     "text": [
      "Downloading: 100%|\u001b[32m██████████\u001b[0m|\n"
     ]
    },
    {
     "data": {
      "text/html": [
       "<div>\n",
       "<style scoped>\n",
       "    .dataframe tbody tr th:only-of-type {\n",
       "        vertical-align: middle;\n",
       "    }\n",
       "\n",
       "    .dataframe tbody tr th {\n",
       "        vertical-align: top;\n",
       "    }\n",
       "\n",
       "    .dataframe thead th {\n",
       "        text-align: right;\n",
       "    }\n",
       "</style>\n",
       "<table border=\"1\" class=\"dataframe\">\n",
       "  <thead>\n",
       "    <tr style=\"text-align: right;\">\n",
       "      <th></th>\n",
       "      <th>id_chamado</th>\n",
       "      <th>id_origem_ocorrencia</th>\n",
       "      <th>data_inicio</th>\n",
       "      <th>data_fim</th>\n",
       "      <th>id_bairro</th>\n",
       "      <th>id_territorialidade</th>\n",
       "      <th>id_logradouro</th>\n",
       "      <th>numero_logradouro</th>\n",
       "      <th>id_unidade_organizacional</th>\n",
       "      <th>nome_unidade_organizacional</th>\n",
       "      <th>...</th>\n",
       "      <th>data_real_diagnostico</th>\n",
       "      <th>tempo_prazo</th>\n",
       "      <th>prazo_unidade</th>\n",
       "      <th>prazo_tipo</th>\n",
       "      <th>dentro_prazo</th>\n",
       "      <th>situacao</th>\n",
       "      <th>tipo_situacao</th>\n",
       "      <th>justificativa_status</th>\n",
       "      <th>reclamacoes</th>\n",
       "      <th>data_particao</th>\n",
       "    </tr>\n",
       "  </thead>\n",
       "  <tbody>\n",
       "    <tr>\n",
       "      <th>0</th>\n",
       "      <td>18517973</td>\n",
       "      <td>13</td>\n",
       "      <td>2023-04-01 18:03:14</td>\n",
       "      <td>2023-05-02 15:22:24</td>\n",
       "      <td>81</td>\n",
       "      <td>3</td>\n",
       "      <td>25544</td>\n",
       "      <td>974</td>\n",
       "      <td>247</td>\n",
       "      <td>Ouvidoria COMLURB</td>\n",
       "      <td>...</td>\n",
       "      <td>NaT</td>\n",
       "      <td>&lt;NA&gt;</td>\n",
       "      <td>D</td>\n",
       "      <td>F</td>\n",
       "      <td>Fora do prazo</td>\n",
       "      <td>Encerrado</td>\n",
       "      <td>Atendido</td>\n",
       "      <td>None</td>\n",
       "      <td>0</td>\n",
       "      <td>2023-04-01</td>\n",
       "    </tr>\n",
       "    <tr>\n",
       "      <th>1</th>\n",
       "      <td>18518136</td>\n",
       "      <td>13</td>\n",
       "      <td>2023-04-01 19:15:24</td>\n",
       "      <td>2023-04-03 16:31:06</td>\n",
       "      <td>None</td>\n",
       "      <td>None</td>\n",
       "      <td>None</td>\n",
       "      <td>&lt;NA&gt;</td>\n",
       "      <td>121</td>\n",
       "      <td>Ouvidoria GM-RIO</td>\n",
       "      <td>...</td>\n",
       "      <td>NaT</td>\n",
       "      <td>&lt;NA&gt;</td>\n",
       "      <td>D</td>\n",
       "      <td>F</td>\n",
       "      <td>No prazo</td>\n",
       "      <td>Encerrado</td>\n",
       "      <td>Atendido parcialmente</td>\n",
       "      <td>None</td>\n",
       "      <td>0</td>\n",
       "      <td>2023-04-01</td>\n",
       "    </tr>\n",
       "    <tr>\n",
       "      <th>2</th>\n",
       "      <td>18516836</td>\n",
       "      <td>1</td>\n",
       "      <td>2023-04-01 10:34:10</td>\n",
       "      <td>2023-04-03 14:07:40</td>\n",
       "      <td>None</td>\n",
       "      <td>None</td>\n",
       "      <td>None</td>\n",
       "      <td>&lt;NA&gt;</td>\n",
       "      <td>835</td>\n",
       "      <td>Ouvidoria SMS/CAP3.1</td>\n",
       "      <td>...</td>\n",
       "      <td>NaT</td>\n",
       "      <td>&lt;NA&gt;</td>\n",
       "      <td>D</td>\n",
       "      <td>F</td>\n",
       "      <td>No prazo</td>\n",
       "      <td>Encerrado</td>\n",
       "      <td>Atendido parcialmente</td>\n",
       "      <td>None</td>\n",
       "      <td>0</td>\n",
       "      <td>2023-04-01</td>\n",
       "    </tr>\n",
       "    <tr>\n",
       "      <th>3</th>\n",
       "      <td>18516688</td>\n",
       "      <td>1</td>\n",
       "      <td>2023-04-01 09:53:57</td>\n",
       "      <td>2023-04-27 16:31:54</td>\n",
       "      <td>None</td>\n",
       "      <td>None</td>\n",
       "      <td>None</td>\n",
       "      <td>&lt;NA&gt;</td>\n",
       "      <td>43</td>\n",
       "      <td>Ouvidoria SMTR</td>\n",
       "      <td>...</td>\n",
       "      <td>NaT</td>\n",
       "      <td>&lt;NA&gt;</td>\n",
       "      <td>D</td>\n",
       "      <td>F</td>\n",
       "      <td>No prazo</td>\n",
       "      <td>Encerrado</td>\n",
       "      <td>Atendido</td>\n",
       "      <td>None</td>\n",
       "      <td>0</td>\n",
       "      <td>2023-04-01</td>\n",
       "    </tr>\n",
       "    <tr>\n",
       "      <th>4</th>\n",
       "      <td>18517231</td>\n",
       "      <td>13</td>\n",
       "      <td>2023-04-01 12:45:19</td>\n",
       "      <td>2023-05-02 09:21:23</td>\n",
       "      <td>None</td>\n",
       "      <td>None</td>\n",
       "      <td>None</td>\n",
       "      <td>&lt;NA&gt;</td>\n",
       "      <td>846</td>\n",
       "      <td>OUV.SMS/HMSA</td>\n",
       "      <td>...</td>\n",
       "      <td>NaT</td>\n",
       "      <td>&lt;NA&gt;</td>\n",
       "      <td>D</td>\n",
       "      <td>F</td>\n",
       "      <td>Fora do prazo</td>\n",
       "      <td>Encerrado</td>\n",
       "      <td>Atendido parcialmente</td>\n",
       "      <td>None</td>\n",
       "      <td>0</td>\n",
       "      <td>2023-04-01</td>\n",
       "    </tr>\n",
       "  </tbody>\n",
       "</table>\n",
       "<p>5 rows × 32 columns</p>\n",
       "</div>"
      ],
      "text/plain": [
       "  id_chamado id_origem_ocorrencia         data_inicio            data_fim  \\\n",
       "0   18517973                   13 2023-04-01 18:03:14 2023-05-02 15:22:24   \n",
       "1   18518136                   13 2023-04-01 19:15:24 2023-04-03 16:31:06   \n",
       "2   18516836                    1 2023-04-01 10:34:10 2023-04-03 14:07:40   \n",
       "3   18516688                    1 2023-04-01 09:53:57 2023-04-27 16:31:54   \n",
       "4   18517231                   13 2023-04-01 12:45:19 2023-05-02 09:21:23   \n",
       "\n",
       "  id_bairro id_territorialidade id_logradouro  numero_logradouro  \\\n",
       "0        81                   3         25544                974   \n",
       "1      None                None          None               <NA>   \n",
       "2      None                None          None               <NA>   \n",
       "3      None                None          None               <NA>   \n",
       "4      None                None          None               <NA>   \n",
       "\n",
       "  id_unidade_organizacional nome_unidade_organizacional  ...  \\\n",
       "0                       247           Ouvidoria COMLURB  ...   \n",
       "1                       121            Ouvidoria GM-RIO  ...   \n",
       "2                       835        Ouvidoria SMS/CAP3.1  ...   \n",
       "3                        43              Ouvidoria SMTR  ...   \n",
       "4                       846                OUV.SMS/HMSA  ...   \n",
       "\n",
       "  data_real_diagnostico tempo_prazo prazo_unidade prazo_tipo   dentro_prazo  \\\n",
       "0                   NaT        <NA>             D          F  Fora do prazo   \n",
       "1                   NaT        <NA>             D          F       No prazo   \n",
       "2                   NaT        <NA>             D          F       No prazo   \n",
       "3                   NaT        <NA>             D          F       No prazo   \n",
       "4                   NaT        <NA>             D          F  Fora do prazo   \n",
       "\n",
       "    situacao          tipo_situacao justificativa_status  reclamacoes  \\\n",
       "0  Encerrado               Atendido                 None            0   \n",
       "1  Encerrado  Atendido parcialmente                 None            0   \n",
       "2  Encerrado  Atendido parcialmente                 None            0   \n",
       "3  Encerrado               Atendido                 None            0   \n",
       "4  Encerrado  Atendido parcialmente                 None            0   \n",
       "\n",
       "   data_particao  \n",
       "0     2023-04-01  \n",
       "1     2023-04-01  \n",
       "2     2023-04-01  \n",
       "3     2023-04-01  \n",
       "4     2023-04-01  \n",
       "\n",
       "[5 rows x 32 columns]"
      ]
     },
     "execution_count": 1,
     "metadata": {},
     "output_type": "execute_result"
    }
   ],
   "source": [
    "import basedosdados as bd\n",
    "import pandas as pd\n",
    "\n",
    "query = \"SELECT * FROM `datario.adm_central_atendimento_1746.chamado`\" \\\n",
    "        \"WHERE DATE(data_inicio) = '2023-04-01'\"\n",
    "df_chamado = bd.read_sql(query, billing_project_id=\"prefeitura-rio-455211\")\n",
    "df_chamado.head()"
   ]
  },
  {
   "cell_type": "code",
   "execution_count": 10,
   "metadata": {},
   "outputs": [
    {
     "name": "stdout",
     "output_type": "stream",
     "text": [
      "Downloading: 100%|\u001b[32m██████████\u001b[0m|\n"
     ]
    },
    {
     "data": {
      "text/html": [
       "<div>\n",
       "<style scoped>\n",
       "    .dataframe tbody tr th:only-of-type {\n",
       "        vertical-align: middle;\n",
       "    }\n",
       "\n",
       "    .dataframe tbody tr th {\n",
       "        vertical-align: top;\n",
       "    }\n",
       "\n",
       "    .dataframe thead th {\n",
       "        text-align: right;\n",
       "    }\n",
       "</style>\n",
       "<table border=\"1\" class=\"dataframe\">\n",
       "  <thead>\n",
       "    <tr style=\"text-align: right;\">\n",
       "      <th></th>\n",
       "      <th>id_bairro</th>\n",
       "      <th>nome</th>\n",
       "      <th>id_area_planejamento</th>\n",
       "      <th>id_regiao_planejamento</th>\n",
       "      <th>nome_regiao_planejamento</th>\n",
       "      <th>id_regiao_administrativa</th>\n",
       "      <th>nome_regiao_administrativa</th>\n",
       "      <th>subprefeitura</th>\n",
       "      <th>area</th>\n",
       "      <th>perimetro</th>\n",
       "      <th>geometry_wkt</th>\n",
       "      <th>geometry</th>\n",
       "    </tr>\n",
       "  </thead>\n",
       "  <tbody>\n",
       "    <tr>\n",
       "      <th>0</th>\n",
       "      <td>2</td>\n",
       "      <td>Gamboa</td>\n",
       "      <td>1</td>\n",
       "      <td>1.1</td>\n",
       "      <td>Centro</td>\n",
       "      <td>1</td>\n",
       "      <td>Portuaria</td>\n",
       "      <td>Centro</td>\n",
       "      <td>1.112903e+06</td>\n",
       "      <td>4612.833630</td>\n",
       "      <td>POLYGON ((-43.18791509600138 -22.8931217212322...</td>\n",
       "      <td>POLYGON((-43.1879150960014 -22.8931217212322, ...</td>\n",
       "    </tr>\n",
       "    <tr>\n",
       "      <th>1</th>\n",
       "      <td>1</td>\n",
       "      <td>Saúde</td>\n",
       "      <td>1</td>\n",
       "      <td>1.1</td>\n",
       "      <td>Centro</td>\n",
       "      <td>1</td>\n",
       "      <td>Portuaria</td>\n",
       "      <td>Centro</td>\n",
       "      <td>3.638176e+05</td>\n",
       "      <td>2646.220568</td>\n",
       "      <td>POLYGON ((-43.181151633502964 -22.895430284304...</td>\n",
       "      <td>POLYGON((-43.181151633503 -22.8954302843042, -...</td>\n",
       "    </tr>\n",
       "    <tr>\n",
       "      <th>2</th>\n",
       "      <td>4</td>\n",
       "      <td>Caju</td>\n",
       "      <td>1</td>\n",
       "      <td>1.1</td>\n",
       "      <td>Centro</td>\n",
       "      <td>1</td>\n",
       "      <td>Portuaria</td>\n",
       "      <td>Centro</td>\n",
       "      <td>5.347481e+06</td>\n",
       "      <td>19800.522524</td>\n",
       "      <td>MULTIPOLYGON (((-43.22522241788469 -22.8746498...</td>\n",
       "      <td>MULTIPOLYGON(((-43.196711909178 -22.8872495021...</td>\n",
       "    </tr>\n",
       "    <tr>\n",
       "      <th>3</th>\n",
       "      <td>3</td>\n",
       "      <td>Santo Cristo</td>\n",
       "      <td>1</td>\n",
       "      <td>1.1</td>\n",
       "      <td>Centro</td>\n",
       "      <td>1</td>\n",
       "      <td>Portuaria</td>\n",
       "      <td>Centro</td>\n",
       "      <td>1.684721e+06</td>\n",
       "      <td>6743.227885</td>\n",
       "      <td>POLYGON ((-43.194498082949806 -22.903378003392...</td>\n",
       "      <td>POLYGON((-43.1944980829498 -22.9033780033923, ...</td>\n",
       "    </tr>\n",
       "    <tr>\n",
       "      <th>4</th>\n",
       "      <td>161</td>\n",
       "      <td>Lapa</td>\n",
       "      <td>1</td>\n",
       "      <td>1.1</td>\n",
       "      <td>Centro</td>\n",
       "      <td>2</td>\n",
       "      <td>Centro</td>\n",
       "      <td>Centro</td>\n",
       "      <td>2.983258e+05</td>\n",
       "      <td>3849.181818</td>\n",
       "      <td>POLYGON ((-43.18166120770202 -22.9120798224676...</td>\n",
       "      <td>POLYGON((-43.181661207702 -22.9120798224677, -...</td>\n",
       "    </tr>\n",
       "  </tbody>\n",
       "</table>\n",
       "</div>"
      ],
      "text/plain": [
       "  id_bairro          nome id_area_planejamento id_regiao_planejamento  \\\n",
       "0         2        Gamboa                    1                    1.1   \n",
       "1         1         Saúde                    1                    1.1   \n",
       "2         4          Caju                    1                    1.1   \n",
       "3         3  Santo Cristo                    1                    1.1   \n",
       "4       161          Lapa                    1                    1.1   \n",
       "\n",
       "  nome_regiao_planejamento id_regiao_administrativa  \\\n",
       "0                   Centro                        1   \n",
       "1                   Centro                        1   \n",
       "2                   Centro                        1   \n",
       "3                   Centro                        1   \n",
       "4                   Centro                        2   \n",
       "\n",
       "  nome_regiao_administrativa subprefeitura          area     perimetro  \\\n",
       "0                  Portuaria        Centro  1.112903e+06   4612.833630   \n",
       "1                  Portuaria        Centro  3.638176e+05   2646.220568   \n",
       "2                  Portuaria        Centro  5.347481e+06  19800.522524   \n",
       "3                  Portuaria        Centro  1.684721e+06   6743.227885   \n",
       "4                     Centro        Centro  2.983258e+05   3849.181818   \n",
       "\n",
       "                                        geometry_wkt  \\\n",
       "0  POLYGON ((-43.18791509600138 -22.8931217212322...   \n",
       "1  POLYGON ((-43.181151633502964 -22.895430284304...   \n",
       "2  MULTIPOLYGON (((-43.22522241788469 -22.8746498...   \n",
       "3  POLYGON ((-43.194498082949806 -22.903378003392...   \n",
       "4  POLYGON ((-43.18166120770202 -22.9120798224676...   \n",
       "\n",
       "                                            geometry  \n",
       "0  POLYGON((-43.1879150960014 -22.8931217212322, ...  \n",
       "1  POLYGON((-43.181151633503 -22.8954302843042, -...  \n",
       "2  MULTIPOLYGON(((-43.196711909178 -22.8872495021...  \n",
       "3  POLYGON((-43.1944980829498 -22.9033780033923, ...  \n",
       "4  POLYGON((-43.181661207702 -22.9120798224677, -...  "
      ]
     },
     "execution_count": 10,
     "metadata": {},
     "output_type": "execute_result"
    }
   ],
   "source": [
    "query_bairro = \"SELECT * FROM `datario.dados_mestres.bairro`\"\n",
    "df_bairro = bd.read_sql(query_bairro, billing_project_id=\"prefeitura-rio-455211\")\n",
    "df_bairro.head()"
   ]
  },
  {
   "cell_type": "code",
   "execution_count": 3,
   "metadata": {},
   "outputs": [
    {
     "name": "stdout",
     "output_type": "stream",
     "text": [
      "<class 'pandas.core.frame.DataFrame'>\n",
      "RangeIndex: 1903 entries, 0 to 1902\n",
      "Data columns (total 32 columns):\n",
      " #   Column                            Non-Null Count  Dtype         \n",
      "---  ------                            --------------  -----         \n",
      " 0   id_chamado                        1903 non-null   object        \n",
      " 1   id_origem_ocorrencia              1903 non-null   object        \n",
      " 2   data_inicio                       1903 non-null   datetime64[us]\n",
      " 3   data_fim                          1886 non-null   datetime64[us]\n",
      " 4   id_bairro                         1772 non-null   object        \n",
      " 5   id_territorialidade               1772 non-null   object        \n",
      " 6   id_logradouro                     1772 non-null   object        \n",
      " 7   numero_logradouro                 1649 non-null   Int64         \n",
      " 8   id_unidade_organizacional         1903 non-null   object        \n",
      " 9   nome_unidade_organizacional       1903 non-null   object        \n",
      " 10  id_unidade_organizacional_mae     1903 non-null   object        \n",
      " 11  unidade_organizacional_ouvidoria  1903 non-null   object        \n",
      " 12  categoria                         1903 non-null   object        \n",
      " 13  id_tipo                           1903 non-null   object        \n",
      " 14  tipo                              1903 non-null   object        \n",
      " 15  id_subtipo                        1903 non-null   object        \n",
      " 16  subtipo                           1903 non-null   object        \n",
      " 17  status                            1903 non-null   object        \n",
      " 18  longitude                         1293 non-null   float64       \n",
      " 19  latitude                          1293 non-null   float64       \n",
      " 20  data_alvo_finalizacao             1876 non-null   datetime64[us]\n",
      " 21  data_alvo_diagnostico             87 non-null     datetime64[us]\n",
      " 22  data_real_diagnostico             87 non-null     datetime64[us]\n",
      " 23  tempo_prazo                       0 non-null      Int64         \n",
      " 24  prazo_unidade                     1900 non-null   object        \n",
      " 25  prazo_tipo                        1900 non-null   object        \n",
      " 26  dentro_prazo                      1903 non-null   object        \n",
      " 27  situacao                          1903 non-null   object        \n",
      " 28  tipo_situacao                     1903 non-null   object        \n",
      " 29  justificativa_status              0 non-null      object        \n",
      " 30  reclamacoes                       1903 non-null   Int64         \n",
      " 31  data_particao                     1903 non-null   dbdate        \n",
      "dtypes: Int64(3), datetime64[us](5), dbdate(1), float64(2), object(21)\n",
      "memory usage: 481.5+ KB\n"
     ]
    }
   ],
   "source": [
    "df_chamado.info()"
   ]
  },
  {
   "cell_type": "code",
   "execution_count": 11,
   "metadata": {},
   "outputs": [
    {
     "name": "stdout",
     "output_type": "stream",
     "text": [
      "<class 'pandas.core.frame.DataFrame'>\n",
      "RangeIndex: 164 entries, 0 to 163\n",
      "Data columns (total 12 columns):\n",
      " #   Column                      Non-Null Count  Dtype  \n",
      "---  ------                      --------------  -----  \n",
      " 0   id_bairro                   164 non-null    object \n",
      " 1   nome                        164 non-null    object \n",
      " 2   id_area_planejamento        164 non-null    object \n",
      " 3   id_regiao_planejamento      164 non-null    object \n",
      " 4   nome_regiao_planejamento    164 non-null    object \n",
      " 5   id_regiao_administrativa    164 non-null    object \n",
      " 6   nome_regiao_administrativa  164 non-null    object \n",
      " 7   subprefeitura               164 non-null    object \n",
      " 8   area                        164 non-null    float64\n",
      " 9   perimetro                   164 non-null    float64\n",
      " 10  geometry_wkt                164 non-null    object \n",
      " 11  geometry                    164 non-null    object \n",
      "dtypes: float64(2), object(10)\n",
      "memory usage: 15.5+ KB\n"
     ]
    }
   ],
   "source": [
    "df_bairro.info()"
   ]
  },
  {
   "cell_type": "markdown",
   "metadata": {},
   "source": [
    "### Q1) Quantos chamados foram abertos no dia 01/04/2023?"
   ]
  },
  {
   "cell_type": "code",
   "execution_count": null,
   "metadata": {},
   "outputs": [
    {
     "name": "stdout",
     "output_type": "stream",
     "text": [
      "Total de chamados em 01/04/2023: 1903\n"
     ]
    }
   ],
   "source": [
    "print(\"Total de chamados em 01/04/2023:\", len(df_chamado))"
   ]
  },
  {
   "cell_type": "markdown",
   "metadata": {},
   "source": [
    "### Q2) Qual o tipo de chamado que teve mais teve chamados abertos no dia 01/04/2023?\n"
   ]
  },
  {
   "cell_type": "code",
   "execution_count": 9,
   "metadata": {},
   "outputs": [
    {
     "name": "stdout",
     "output_type": "stream",
     "text": [
      "Tipo com mais chamados: Estacionamento irregular - 373 chamados\n"
     ]
    }
   ],
   "source": [
    "tipo_mais_comum = df_chamado['tipo'].value_counts().idxmax()\n",
    "contagem_tipo_comum = len(df_chamado[df_chamado['tipo'] == tipo_mais_comum])\n",
    "\n",
    "print(f\"Tipo com mais chamados: {tipo_mais_comum} - {contagem_tipo_comum} chamados\")"
   ]
  },
  {
   "cell_type": "markdown",
   "metadata": {},
   "source": [
    "### Q3) Quais os nomes dos 3 bairros que mais tiveram chamados abertos nesse dia?"
   ]
  },
  {
   "cell_type": "code",
   "execution_count": 15,
   "metadata": {},
   "outputs": [
    {
     "name": "stdout",
     "output_type": "stream",
     "text": [
      "Top 3 bairros com mais chamados:\n",
      "nome\n",
      "Campo Grande       124\n",
      "Tijuca              96\n",
      "Barra da Tijuca     60\n",
      "Name: count, dtype: int64\n"
     ]
    }
   ],
   "source": [
    "df_chamados_bairro = df_chamado.merge(df_bairro, on='id_bairro', how='left')\n",
    "\n",
    "bairros_top3 = df_chamados_bairro['nome'].value_counts().head(3)\n",
    "print(\"Top 3 bairros com mais chamados:\")\n",
    "print(bairros_top3)"
   ]
  },
  {
   "cell_type": "markdown",
   "metadata": {},
   "source": [
    "### Q4) Qual o nome da subprefeitura com mais chamados abertos nesse dia?"
   ]
  },
  {
   "cell_type": "code",
   "execution_count": 18,
   "metadata": {},
   "outputs": [
    {
     "name": "stdout",
     "output_type": "stream",
     "text": [
      "Subprefeitura com mais chamados:\n",
      "subprefeitura\n",
      "Zona Norte    534\n",
      "Name: count, dtype: int64\n"
     ]
    }
   ],
   "source": [
    "subprefeitura_top1 = df_chamados_bairro['subprefeitura'].value_counts().head(1)\n",
    "print(\"Subprefeitura com mais chamados:\")\n",
    "print(subprefeitura_top1)"
   ]
  },
  {
   "cell_type": "markdown",
   "metadata": {},
   "source": [
    "### Q5) Existe algum chamado aberto nesse dia que não foi associado a um bairro ou subprefeitura na tabela de bairros? Se sim, por que isso acontece?"
   ]
  },
  {
   "cell_type": "code",
   "execution_count": 24,
   "metadata": {},
   "outputs": [
    {
     "name": "stdout",
     "output_type": "stream",
     "text": [
      "Chamados em 01/04/2023 sem bairro ou subprefeitura: 131\n"
     ]
    }
   ],
   "source": [
    "# Caso o id_bairro (identificador) não seja preenchido na ocorrência do chamado, não é possível identificar o bairro ou subprefeitura associado.\n",
    "\n",
    "sem_bairro_ou_sub = df_chamado[df_chamado[\"id_bairro\"].isnull()]\n",
    "\n",
    "print(\"Chamados em 01/04/2023 sem bairro ou subprefeitura:\", len(sem_bairro_ou_sub))"
   ]
  }
 ],
 "metadata": {
  "kernelspec": {
   "display_name": "venv",
   "language": "python",
   "name": "python3"
  },
  "language_info": {
   "codemirror_mode": {
    "name": "ipython",
    "version": 3
   },
   "file_extension": ".py",
   "mimetype": "text/x-python",
   "name": "python",
   "nbconvert_exporter": "python",
   "pygments_lexer": "ipython3",
   "version": "3.13.0"
  }
 },
 "nbformat": 4,
 "nbformat_minor": 2
}
